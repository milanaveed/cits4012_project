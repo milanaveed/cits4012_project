{
  "cells": [
    {
      "cell_type": "markdown",
      "metadata": {
        "id": "32yCsRUo8H33"
      },
      "source": [
        "# 2024 CITS4012 Project\n",
        "*Make sure you change the file name with your group id.*"
      ]
    },
    {
      "cell_type": "markdown",
      "metadata": {
        "id": "XCybYoGz8YWQ"
      },
      "source": [
        "# Readme\n",
        "*If there is something to be noted for the marker, please mention here.*\n",
        "\n",
        "*If you are planning to implement a program with Object Oriented Programming style, please put those the bottom of this ipynb file*"
      ]
    },
    {
      "cell_type": "markdown",
      "metadata": {
        "id": "6po98qVA8bJD"
      },
      "source": [
        "# 1.Dataset Processing\n",
        "(You can add as many code blocks and text blocks as you need. However, YOU SHOULD NOT MODIFY the section title)"
      ]
    },
    {
      "cell_type": "markdown",
      "metadata": {
        "id": "aXzteTLV-JIy"
      },
      "source": [
        "## Install packages and load libraries"
      ]
    },
    {
      "cell_type": "code",
      "execution_count": 1,
      "metadata": {
        "colab": {
          "base_uri": "https://localhost:8080/"
        },
        "id": "UIm8MEKb-H9S",
        "outputId": "d7c95a58-0b95-4a58-ed71-fffb12db1093"
      },
      "outputs": [
        {
          "name": "stdout",
          "output_type": "stream",
          "text": [
            "Requirement already satisfied: skorch in c:\\users\\chaoz\\miniconda3\\envs\\cits4012\\lib\\site-packages (0.15.0)\n",
            "Requirement already satisfied: numpy>=1.13.3 in c:\\users\\chaoz\\miniconda3\\envs\\cits4012\\lib\\site-packages (from skorch) (1.26.4)\n",
            "Requirement already satisfied: scikit-learn>=0.22.0 in c:\\users\\chaoz\\miniconda3\\envs\\cits4012\\lib\\site-packages (from skorch) (1.4.2)\n",
            "Requirement already satisfied: scipy>=1.1.0 in c:\\users\\chaoz\\miniconda3\\envs\\cits4012\\lib\\site-packages (from skorch) (1.12.0)\n",
            "Requirement already satisfied: tabulate>=0.7.7 in c:\\users\\chaoz\\miniconda3\\envs\\cits4012\\lib\\site-packages (from skorch) (0.9.0)\n",
            "Requirement already satisfied: tqdm>=4.14.0 in c:\\users\\chaoz\\miniconda3\\envs\\cits4012\\lib\\site-packages (from skorch) (4.66.4)\n",
            "Requirement already satisfied: joblib>=1.2.0 in c:\\users\\chaoz\\miniconda3\\envs\\cits4012\\lib\\site-packages (from scikit-learn>=0.22.0->skorch) (1.4.2)\n",
            "Requirement already satisfied: threadpoolctl>=2.0.0 in c:\\users\\chaoz\\miniconda3\\envs\\cits4012\\lib\\site-packages (from scikit-learn>=0.22.0->skorch) (3.5.0)\n",
            "Requirement already satisfied: colorama in c:\\users\\chaoz\\miniconda3\\envs\\cits4012\\lib\\site-packages (from tqdm>=4.14.0->skorch) (0.4.6)\n"
          ]
        }
      ],
      "source": [
        "!pip install skorch\n",
        "import pandas as pd\n",
        "import json\n",
        "import numpy as np\n",
        "import re\n",
        "import nltk\n",
        "import torch\n",
        "import gensim.downloader as api\n",
        "import torch.nn as nn\n",
        "import torch.optim as optim\n",
        "import torch.nn.functional as F\n",
        "from torch.utils.data import DataLoader, TensorDataset\n",
        "from sklearn.preprocessing import LabelEncoder\n",
        "from sklearn.metrics import accuracy_score, f1_score\n",
        "from torch.utils.data import DataLoader, TensorDataset\n",
        "from sklearn.preprocessing import LabelEncoder\n",
        "from sklearn.metrics import accuracy_score\n",
        "from sklearn.preprocessing import LabelEncoder\n",
        "from torch.utils.data import Dataset, DataLoader\n",
        "from torch.utils.data import DataLoader, TensorDataset\n",
        "from sklearn.preprocessing import LabelEncoder\n",
        "from sklearn.metrics import accuracy_score\n",
        "from nltk.tokenize import word_tokenize\n",
        "from nltk.corpus import stopwords\n",
        "from collections import Counter\n",
        "from skorch import NeuralNetClassifier\n",
        "from sklearn.model_selection import GridSearchCV"
      ]
    },
    {
      "cell_type": "markdown",
      "metadata": {
        "id": "dhyJoBO8Dmgk"
      },
      "source": [
        "## Download and load data"
      ]
    },
    {
      "cell_type": "code",
      "execution_count": null,
      "metadata": {
        "id": "cjUhqL1LMucW"
      },
      "outputs": [],
      "source": [
        "!pip install -U -q PyDrive2\n",
        "from pydrive2.auth import GoogleAuth\n",
        "from pydrive2.drive import GoogleDrive\n",
        "from google.colab import auth\n",
        "from oauth2client.client import GoogleCredentials\n",
        "# Code to download file into Colaboratory:\n",
        "# Authenticate and create the PyDrive client.\n",
        "auth.authenticate_user()\n",
        "gauth = GoogleAuth()\n",
        "gauth.credentials = GoogleCredentials.get_application_default()\n",
        "drive = GoogleDrive(gauth)\n",
        "\n",
        "downloaded1 = drive.CreateFile({'id': '1nCCtN3vE6ujkZ4fRxqfO7WfONF0Le7jz'})\n",
        "downloaded1.GetContentFile('test.json')\n",
        "downloaded2 = drive.CreateFile({'id': '1TIK7kyjmUn93ppgYjLL9YgMbFF99duhl'})\n",
        "downloaded2.GetContentFile('train.json')\n",
        "downloaded3 = drive.CreateFile({'id': '1PUCSzVYiwzsHWWaiDKm4tbdlTofIcL7n'})\n",
        "downloaded3.GetContentFile('val.json')"
      ]
    },
    {
      "cell_type": "code",
      "execution_count": 2,
      "metadata": {
        "id": "qvff21Hv8zjk"
      },
      "outputs": [],
      "source": [
        "train_data = json.load(open(\"train.json\"))\n",
        "test_data = json.load(open(\"test.json\"))\n",
        "val_data = json.load(open(\"val.json\"))"
      ]
    },
    {
      "cell_type": "code",
      "execution_count": 3,
      "metadata": {
        "id": "Kt-B912cVCjM"
      },
      "outputs": [],
      "source": [
        "def create_dataframe(data):\n",
        "    # Extract data points and column names\n",
        "    records = data[\"data\"]\n",
        "    columns = data[\"columns\"]\n",
        "\n",
        "    # Create DataFrame\n",
        "    df = pd.DataFrame(records, columns=columns)\n",
        "    return df\n",
        "\n",
        "\n",
        "# Convert to Pandas data frame\n",
        "train_df = create_dataframe(train_data)\n",
        "test_df = create_dataframe(test_data)\n",
        "val_df = create_dataframe(val_data)"
      ]
    },
    {
      "cell_type": "code",
      "execution_count": 4,
      "metadata": {
        "colab": {
          "base_uri": "https://localhost:8080/"
        },
        "id": "xlxZquj3YVm2",
        "outputId": "b37321f6-e004-444a-b184-3f6484e12482"
      },
      "outputs": [
        {
          "name": "stderr",
          "output_type": "stream",
          "text": [
            "[nltk_data] Downloading package punkt to\n",
            "[nltk_data]     C:\\Users\\chaoz\\AppData\\Roaming\\nltk_data...\n",
            "[nltk_data]   Unzipping tokenizers\\punkt.zip.\n",
            "[nltk_data] Downloading package stopwords to\n",
            "[nltk_data]     C:\\Users\\chaoz\\AppData\\Roaming\\nltk_data...\n",
            "[nltk_data]   Unzipping corpora\\stopwords.zip.\n"
          ]
        }
      ],
      "source": [
        "nltk.download(\"punkt\")  # Download punkt tokenizer from nltk\n",
        "nltk.download(\"stopwords\")  # Download stopwords from nltk\n",
        "\n",
        "# Assume the contraction_dict contains all the contractions\n",
        "contraction_dict = {\n",
        "    \"ain't\": \"is not\",\n",
        "    \"aren't\": \"are not\",\n",
        "    \"can't\": \"cannot\",\n",
        "    \"'cause\": \"because\",\n",
        "    \"could've\": \"could have\",\n",
        "    \"couldn't\": \"could not\",\n",
        "    \"didn't\": \"did not\",\n",
        "    \"doesn't\": \"does not\",\n",
        "    \"don't\": \"do not\",\n",
        "    \"hadn't\": \"had not\",\n",
        "    \"hasn't\": \"has not\",\n",
        "    \"haven't\": \"have not\",\n",
        "    \"he'd\": \"he would\",\n",
        "    \"he'll\": \"he will\",\n",
        "    \"he's\": \"he is\",\n",
        "    \"how'd\": \"how did\",\n",
        "    \"how'd'y\": \"how do you\",\n",
        "    \"how'll\": \"how will\",\n",
        "    \"how's\": \"how is\",\n",
        "    \"I'd\": \"I would\",\n",
        "    \"I'd've\": \"I would have\",\n",
        "    \"I'll\": \"I will\",\n",
        "    \"I'll've\": \"I will have\",\n",
        "    \"I'm\": \"I am\",\n",
        "    \"I've\": \"I have\",\n",
        "    \"i'd\": \"i would\",\n",
        "    \"i'd've\": \"i would have\",\n",
        "    \"i'll\": \"i will\",\n",
        "    \"i'll've\": \"i will have\",\n",
        "    \"i'm\": \"i am\",\n",
        "    \"i've\": \"i have\",\n",
        "    \"isn't\": \"is not\",\n",
        "    \"it'd\": \"it would\",\n",
        "    \"it'd've\": \"it would have\",\n",
        "    \"it'll\": \"it will\",\n",
        "    \"it'll've\": \"it will have\",\n",
        "    \"it's\": \"it is\",\n",
        "    \"let's\": \"let us\",\n",
        "    \"ma'am\": \"madam\",\n",
        "    \"mayn't\": \"may not\",\n",
        "    \"might've\": \"might have\",\n",
        "    \"mightn't\": \"might not\",\n",
        "    \"mightn't've\": \"might not have\",\n",
        "    \"must've\": \"must have\",\n",
        "    \"mustn't\": \"must not\",\n",
        "    \"mustn't've\": \"must not have\",\n",
        "    \"needn't\": \"need not\",\n",
        "    \"needn't've\": \"need not have\",\n",
        "    \"o'clock\": \"of the clock\",\n",
        "    \"oughtn't\": \"ought not\",\n",
        "    \"oughtn't've\": \"ought not have\",\n",
        "    \"shan't\": \"shall not\",\n",
        "    \"sha'n't\": \"shall not\",\n",
        "    \"shan't've\": \"shall not have\",\n",
        "    \"she'd\": \"she would\",\n",
        "    \"she'd've\": \"she would have\",\n",
        "    \"she'll\": \"she will\",\n",
        "    \"she'll've\": \"she will have\",\n",
        "    \"she's\": \"she is\",\n",
        "    \"should've\": \"should have\",\n",
        "    \"shouldn't\": \"should not\",\n",
        "    \"shouldn't've\": \"should not have\",\n",
        "    \"so've\": \"so have\",\n",
        "    \"so's\": \"so as\",\n",
        "    \"this's\": \"this is\",\n",
        "    \"that'd\": \"that would\",\n",
        "    \"that'd've\": \"that would have\",\n",
        "    \"that's\": \"that is\",\n",
        "    \"there'd\": \"there would\",\n",
        "    \"there'd've\": \"there would have\",\n",
        "    \"there's\": \"there is\",\n",
        "    \"here's\": \"here is\",\n",
        "    \"they'd\": \"they would\",\n",
        "    \"they'd've\": \"they would have\",\n",
        "    \"they'll\": \"they will\",\n",
        "    \"they'll've\": \"they will have\",\n",
        "    \"they're\": \"they are\",\n",
        "    \"they've\": \"they have\",\n",
        "    \"to've\": \"to have\",\n",
        "    \"wasn't\": \"was not\",\n",
        "    \"we'd\": \"we would\",\n",
        "    \"we'd've\": \"we would have\",\n",
        "    \"we'll\": \"we will\",\n",
        "    \"we'll've\": \"we will have\",\n",
        "    \"we're\": \"we are\",\n",
        "    \"we've\": \"we have\",\n",
        "    \"weren't\": \"were not\",\n",
        "    \"what'll\": \"what will\",\n",
        "    \"what'll've\": \"what will have\",\n",
        "    \"what're\": \"what are\",\n",
        "    \"what's\": \"what is\",\n",
        "    \"what've\": \"what have\",\n",
        "    \"when's\": \"when is\",\n",
        "    \"when've\": \"when have\",\n",
        "    \"where'd\": \"where did\",\n",
        "    \"where's\": \"where is\",\n",
        "    \"where've\": \"where have\",\n",
        "    \"who'll\": \"who will\",\n",
        "    \"who'll've\": \"who will have\",\n",
        "    \"who's\": \"who is\",\n",
        "    \"who've\": \"who have\",\n",
        "    \"why's\": \"why is\",\n",
        "    \"why've\": \"why have\",\n",
        "    \"will've\": \"will have\",\n",
        "    \"won't\": \"will not\",\n",
        "    \"won't've\": \"will not have\",\n",
        "    \"would've\": \"would have\",\n",
        "    \"wouldn't\": \"would not\",\n",
        "    \"wouldn't've\": \"would not have\",\n",
        "    \"y'all\": \"you all\",\n",
        "    \"y'all'd\": \"you all would\",\n",
        "    \"y'all'd've\": \"you all would have\",\n",
        "    \"y'all're\": \"you all are\",\n",
        "    \"y'all've\": \"you all have\",\n",
        "    \"you'd\": \"you would\",\n",
        "    \"you'd've\": \"you would have\",\n",
        "    \"you'll\": \"you will\",\n",
        "    \"you'll've\": \"you will have\",\n",
        "    \"you're\": \"you are\",\n",
        "    \"you've\": \"you have\",\n",
        "}\n",
        "\n",
        "\n",
        "stop_words = set(stopwords.words(\"english\"))  # Load the list of stop words\n",
        "\n",
        "\n",
        "def preprocess_text(sentence):\n",
        "    # Convert into lowercase\n",
        "    sentence = sentence.lower()\n",
        "    # Convert contractions into uncontracted forms\n",
        "    for word, expanded in contraction_dict.items():\n",
        "        sentence = sentence.replace(word, expanded)\n",
        "    # Remove punctuations\n",
        "    sentence = re.sub(r\"[^\\w\\s]\", \"\", sentence)\n",
        "    # Tokenize the sentence\n",
        "    tokens = word_tokenize(sentence)\n",
        "    # Remove stop words\n",
        "    filtered_tokens = [word for word in tokens if word not in stop_words]\n",
        "    return \" \".join(filtered_tokens)  # Return the processed sentence\n",
        "\n",
        "\n",
        "def create_preprocessed_df(data):\n",
        "    # Convert into DataFrame\n",
        "    df = pd.DataFrame(data[\"data\"], columns=data[\"columns\"])\n",
        "    # Preprocess each sentence\n",
        "    df[\"processed_sentence\"] = df[\"sentence\"].apply(preprocess_text)\n",
        "    return df\n",
        "\n",
        "\n",
        "# Create and preprocess data frame\n",
        "train_df = create_preprocessed_df(train_data)\n",
        "test_df = create_preprocessed_df(test_data)\n",
        "val_df = create_preprocessed_df(val_data)"
      ]
    },
    {
      "cell_type": "code",
      "execution_count": 6,
      "metadata": {
        "colab": {
          "base_uri": "https://localhost:8080/"
        },
        "id": "KeZBfUQIv7yq",
        "outputId": "90444ab8-686e-4fa4-83ea-4b08e9793c63"
      },
      "outputs": [
        {
          "data": {
            "text/plain": [
              "40"
            ]
          },
          "execution_count": 6,
          "metadata": {},
          "output_type": "execute_result"
        }
      ],
      "source": [
        "def calculate_max_length(df):\n",
        "    # Calculate the length of each tokenised sentence\n",
        "    df[\"sentence_length\"] = df[\"processed_sentence\"].apply(\n",
        "        lambda x: len(word_tokenize(x))\n",
        "    )\n",
        "    # Get the maximum length\n",
        "    max_length = df[\"sentence_length\"].max()\n",
        "    return max_length\n",
        "\n",
        "\n",
        "# Calculate the maximum length of each dataset\n",
        "max_length_train = calculate_max_length(train_df)\n",
        "max_length_test = calculate_max_length(test_df)\n",
        "max_length_val = calculate_max_length(val_df)\n",
        "\n",
        "# Get the maximum length among those three datasets\n",
        "max_length = max([max_length_train, max_length_test, max_length_val])\n",
        "max_length"
      ]
    },
    {
      "cell_type": "code",
      "execution_count": 7,
      "metadata": {
        "id": "VoiEOZsbyfIB"
      },
      "outputs": [],
      "source": [
        "def pad_sentences(sentences, max_length, pad_token=\"[PAD]\"):\n",
        "    padded_sentences = []\n",
        "    for sentence in sentences:\n",
        "        # Split sentences into words by spaces\n",
        "        words = sentence.split()\n",
        "        if len(words) > max_length:\n",
        "            # Truncate to maximum length\n",
        "            padded_sentence = words[:max_length]\n",
        "        else:\n",
        "            # Padding to maximum length\n",
        "            padded_sentence = words + [pad_token] * (max_length - len(words))\n",
        "        padded_sentences.append(\" \".join(padded_sentence))\n",
        "    return padded_sentences\n",
        "\n",
        "\n",
        "# Apply padding to each dataset\n",
        "train_df[\"padded_sentence\"] = pad_sentences(\n",
        "    train_df[\"processed_sentence\"], max_length)\n",
        "test_df[\"padded_sentence\"] = pad_sentences(\n",
        "    test_df[\"processed_sentence\"], max_length)\n",
        "val_df[\"padded_sentence\"] = pad_sentences(\n",
        "    val_df[\"processed_sentence\"], max_length)"
      ]
    },
    {
      "cell_type": "code",
      "execution_count": 8,
      "metadata": {
        "colab": {
          "base_uri": "https://localhost:8080/"
        },
        "id": "nd2Kin2c8ER1",
        "outputId": "3f314305-8f92-414c-dd08-7d2708fd2649"
      },
      "outputs": [
        {
          "name": "stdout",
          "output_type": "stream",
          "text": [
            "[==================================================] 100.0% 1662.8/1662.8MB downloaded\n"
          ]
        }
      ],
      "source": [
        "# # Download and load the pretrained Word2Vec model\n",
        "# word2vec_vectors = api.load(\"word2vec-google-news-300\")"
      ]
    },
    {
      "cell_type": "code",
      "execution_count": 12,
      "metadata": {},
      "outputs": [],
      "source": [
        "# word2vec_Model.save(\"word2vec_vectors.bin\")"
      ]
    },
    {
      "cell_type": "code",
      "execution_count": 14,
      "metadata": {},
      "outputs": [],
      "source": [
        "# If run locally\n",
        "from gensim.models import KeyedVectors\n",
        "\n",
        "word2vec_vectors = KeyedVectors.load(\"word2vec_vectors.bin\")"
      ]
    },
    {
      "cell_type": "code",
      "execution_count": 15,
      "metadata": {
        "id": "Xh2Gnlk1C9z6"
      },
      "outputs": [],
      "source": [
        "def sentence_to_avg_vector(sentence, model):\n",
        "    # Initialize a list of zero vectors to store vectors\n",
        "    vectors = []\n",
        "    for word in sentence:\n",
        "        if word in model:\n",
        "            vectors.append(model[word])\n",
        "        else:\n",
        "            # Use all-zero vectors to replace words that do not exist in the model\n",
        "            vectors.append(np.zeros(model.vector_size))\n",
        "\n",
        "    # Calculate the average of a vector\n",
        "    if vectors:\n",
        "        return np.mean(vectors, axis=0)\n",
        "    else:\n",
        "        return np.zeros(model.vector_size)\n",
        "\n",
        "\n",
        "def process_data_frame(df, model):\n",
        "    # Tokenize sentence\n",
        "    df[\"tokenized_sentence\"] = df[\"processed_sentence\"].apply(str.split)\n",
        "\n",
        "    # Convert each sentence to its vector representation\n",
        "    df[\"sentence_vector\"] = df[\"tokenized_sentence\"].apply(\n",
        "        lambda x: sentence_to_avg_vector(x, model)\n",
        "    )\n",
        "\n",
        "    return df\n",
        "\n",
        "\n",
        "# Apply the function to each sentence\n",
        "train_df = process_data_frame(train_df, word2vec_vectors)\n",
        "test_df = process_data_frame(test_df, word2vec_vectors)\n",
        "val_df = process_data_frame(val_df, word2vec_vectors)"
      ]
    },
    {
      "cell_type": "markdown",
      "metadata": {
        "id": "rBiBqrjRaQJp"
      },
      "source": [
        "## Model 1 data processing\n"
      ]
    },
    {
      "cell_type": "markdown",
      "metadata": {
        "id": "W-nKyAy2c_mh"
      },
      "source": [
        "Use Word2vec to produce word embeddings and concatenate the aspect representation and the sentence representation."
      ]
    },
    {
      "cell_type": "code",
      "execution_count": 16,
      "metadata": {
        "id": "CBxPpQRnaVIZ"
      },
      "outputs": [],
      "source": [
        "def aspect_to_vector(aspect, model):\n",
        "    if aspect in model:\n",
        "        return model[aspect]\n",
        "    else:\n",
        "        return np.zeros(model.vector_size)\n",
        "\n",
        "\n",
        "def process_data(df, model):\n",
        "    # For each aspect word in the DataFrame, obtain its vector representation\n",
        "    df[\"aspect_vector\"] = df[\"aspect\"].apply(lambda x: aspect_to_vector(x, model))\n",
        "\n",
        "    # Concatenate aspect representation and sentence representation (placing the aspect vector at the front)\n",
        "    df[\"combined_vector_ahead\"] = df.apply(\n",
        "        lambda row: np.concatenate((row[\"aspect_vector\"], row[\"sentence_vector\"])),\n",
        "        axis=1,\n",
        "    )\n",
        "\n",
        "    return df\n",
        "\n",
        "\n",
        "train_df = process_data(train_df, word2vec_vectors)\n",
        "test_df = process_data(test_df, word2vec_vectors)\n",
        "val_df = process_data(val_df, word2vec_vectors)"
      ]
    },
    {
      "cell_type": "code",
      "execution_count": 17,
      "metadata": {
        "id": "VwhHPn1FQi4b"
      },
      "outputs": [],
      "source": [
        "# Training data and labels\n",
        "X_train_model1 = np.array(list(train_df[\"combined_vector_ahead\"]))\n",
        "y_train_model1 = train_df[\"polarity\"]\n",
        "\n",
        "# Validation data and labels\n",
        "X_val_model1 = np.array(list(val_df[\"combined_vector_ahead\"]))\n",
        "y_val_model1 = val_df[\"polarity\"]\n",
        "\n",
        "# Test data and labels\n",
        "X_test_model1 = np.array(list(test_df[\"combined_vector_ahead\"]))\n",
        "y_test_model1 = test_df[\"polarity\"]"
      ]
    },
    {
      "cell_type": "code",
      "execution_count": 18,
      "metadata": {
        "id": "lsdCHTMuGhkA"
      },
      "outputs": [],
      "source": [
        "# Convert polarity information into indices (using one-hot encoding)\n",
        "label_mapping = {\"neutral\": 0, \"positive\": 1, \"negative\": 2}\n",
        "train_df[\"polarity\"] = train_df[\"polarity\"].map(label_mapping).fillna(-1).astype(int)\n",
        "val_df[\"polarity\"] = val_df[\"polarity\"].map(label_mapping).fillna(-1).astype(int)\n",
        "test_df[\"polarity\"] = test_df[\"polarity\"].map(label_mapping).fillna(-1).astype(int)"
      ]
    },
    {
      "cell_type": "code",
      "execution_count": 19,
      "metadata": {
        "id": "XnFMGoKz4qkI"
      },
      "outputs": [],
      "source": [
        "# Get the one-hot representation of the target variable\n",
        "y_train_encoded = train_df[\"polarity\"]\n",
        "y_val_encoded = val_df[\"polarity\"]\n",
        "y_test_encoded = test_df[\"polarity\"]\n",
        "\n",
        "# Convert to PyTorch tensor\n",
        "y_train_t = torch.tensor(y_train_encoded, dtype=torch.long)\n",
        "y_val_t = torch.tensor(y_val_encoded, dtype=torch.long)\n",
        "y_test_t = torch.tensor(y_test_encoded, dtype=torch.long)\n",
        "\n",
        "# Convert to PyTorch tensor\n",
        "X_train_t = torch.tensor(X_train_model1, dtype=torch.float32).unsqueeze(1)\n",
        "X_val_t = torch.tensor(X_val_model1, dtype=torch.float32).unsqueeze(1)\n",
        "X_test_t = torch.tensor(X_test_model1, dtype=torch.float32).unsqueeze(1)\n",
        "\n",
        "# Create data loader\n",
        "train_loader = DataLoader(\n",
        "    TensorDataset(X_train_t, y_train_t), batch_size=64, shuffle=True\n",
        ")\n",
        "val_loader = DataLoader(TensorDataset(X_val_t, y_val_t), batch_size=64, shuffle=False)\n",
        "test_loader = DataLoader(\n",
        "    TensorDataset(X_test_t, y_test_t), batch_size=64, shuffle=False\n",
        ")"
      ]
    },
    {
      "cell_type": "markdown",
      "metadata": {
        "id": "xeXWARP8TrPV"
      },
      "source": [
        "## Model 2 and Model 3 data processing\n"
      ]
    },
    {
      "cell_type": "markdown",
      "metadata": {
        "id": "yMO6drGVhyka"
      },
      "source": [
        "model2 and model3 we need to use 'padded_sentence', 'aspect' and 'polarity' separately"
      ]
    },
    {
      "cell_type": "code",
      "execution_count": null,
      "metadata": {
        "id": "HJ82kXw1702u"
      },
      "outputs": [],
      "source": [
        "class SentimentDataset(Dataset):\n",
        "    def __init__(self, dataframe, word2vec_vectors, embedding_dim):\n",
        "        # Convert sentences into embedding matrices\n",
        "        self.sentences = [\n",
        "            self.text_to_vec_list(text, word2vec_vectors, embedding_dim)\n",
        "            for text in dataframe[\"padded_sentence\"]\n",
        "        ]\n",
        "        # Convert level words to embedding vectors\n",
        "        self.aspects = [\n",
        "            self.word_to_vec(aspect, word2vec_vectors, embedding_dim)\n",
        "            for aspect in dataframe[\"aspect\"]\n",
        "        ]\n",
        "        # Make sure the label is a long integer tensor\n",
        "        self.labels = torch.tensor(dataframe[\"polarity\"].values, dtype=torch.long)\n",
        "\n",
        "    def text_to_vec_list(self, text, word2vec_vectors, embedding_dim):\n",
        "        # Convert each word into a pretrained embedding vector\n",
        "        def word_to_vec(word):\n",
        "            if word in word2vec_vectors:\n",
        "                return torch.tensor(word2vec_vectors[word], dtype=torch.float)\n",
        "            else:\n",
        "                # For words not found, return a zero vector\n",
        "                return torch.zeros(embedding_dim)\n",
        "\n",
        "        # Split sentences and construct embedding matrix\n",
        "        tokens = text.split()\n",
        "        return torch.stack([word_to_vec(token) for token in tokens])\n",
        "\n",
        "    def word_to_vec(self, word, word2vec_vectors, embedding_dim):\n",
        "        # Convert level words to embedding vectors\n",
        "        if word in word2vec_vectors:\n",
        "            return torch.tensor(word2vec_vectors[word], dtype=torch.float)\n",
        "        else:\n",
        "            return torch.zeros(embedding_dim)\n",
        "\n",
        "    def __len__(self):\n",
        "        return len(self.labels)\n",
        "\n",
        "    def __getitem__(self, idx):\n",
        "        # Return sentence embedding matrix, level word embedding vector and label\n",
        "        return self.sentences[idx], self.aspects[idx], self.labels[idx]"
      ]
    },
    {
      "cell_type": "code",
      "execution_count": null,
      "metadata": {
        "id": "qD9JGMZ1L00k"
      },
      "outputs": [],
      "source": [
        "# Define pretrained embedding model and embedding dimensions\n",
        "embedding_dim = word2vec_vectors.vector_size\n",
        "\n",
        "# Create three data sets\n",
        "train_dataset = SentimentDataset(train_df, word2vec_vectors, embedding_dim)\n",
        "val_dataset = SentimentDataset(val_df, word2vec_vectors, embedding_dim)\n",
        "test_dataset = SentimentDataset(test_df, word2vec_vectors, embedding_dim)\n",
        "\n",
        "# Create data loaders for each dataset\n",
        "train_loader = DataLoader(train_dataset, batch_size=32, shuffle=True)\n",
        "val_loader = DataLoader(val_dataset, batch_size=32, shuffle=False)\n",
        "test_loader = DataLoader(test_dataset, batch_size=32, shuffle=False)"
      ]
    },
    {
      "cell_type": "markdown",
      "metadata": {
        "id": "T34gZQ2BeIWy"
      },
      "source": [
        "## Word representation comparison (Word2vec VS GloVe)\n"
      ]
    },
    {
      "cell_type": "markdown",
      "metadata": {
        "id": "MUJ4DaSkfdga"
      },
      "source": [
        "### GloVe"
      ]
    },
    {
      "cell_type": "code",
      "execution_count": null,
      "metadata": {
        "colab": {
          "base_uri": "https://localhost:8080/"
        },
        "id": "8YDE6cmVNH9i",
        "outputId": "aff9864e-94c4-49a9-def9-736badca9f2c"
      },
      "outputs": [
        {
          "name": "stdout",
          "output_type": "stream",
          "text": [
            "[==================================================] 100.0% 387.1/387.1MB downloaded\n",
            "[==================================================] 100.0% 758.5/758.5MB downloaded\n"
          ]
        }
      ],
      "source": [
        "def build_vocab(sentences):\n",
        "    word_count = Counter(word for sentence in sentences for word in sentence.split())\n",
        "    vocab = [\"<PAD>\"] + sorted(word_count)\n",
        "    word_to_index = {word: idx for idx, word in enumerate(vocab)}\n",
        "    return vocab, word_to_index\n",
        "\n",
        "\n",
        "def text_to_indices(sentences, word_to_index, max_len):\n",
        "    indices = []\n",
        "    for sentence in sentences:\n",
        "        sentence_indices = [\n",
        "            word_to_index.get(word, word_to_index[\"<PAD>\"]) for word in sentence.split()\n",
        "        ]\n",
        "        padded_indices = sentence_indices + [word_to_index[\"<PAD>\"]] * (\n",
        "            max_len - len(sentence_indices)\n",
        "        )\n",
        "        indices.append(padded_indices[:max_len])\n",
        "    return indices\n",
        "\n",
        "\n",
        "all_sentences = (\n",
        "    train_df[\"processed_sentence\"].tolist()\n",
        "    + test_df[\"processed_sentence\"].tolist()\n",
        "    + val_df[\"processed_sentence\"].tolist()\n",
        ")\n",
        "vocab, word_to_index = build_vocab(all_sentences)\n",
        "max_length = 40\n",
        "\n",
        "train_indices = text_to_indices(\n",
        "    train_df[\"processed_sentence\"], word_to_index, max_length\n",
        ")\n",
        "test_indices = text_to_indices(test_df[\"processed_sentence\"], word_to_index, max_length)\n",
        "val_indices = text_to_indices(val_df[\"processed_sentence\"], word_to_index, max_length)\n",
        "\n",
        "# Convert labels to integers\n",
        "label_encoder = LabelEncoder()\n",
        "y_train_encoded = label_encoder.fit_transform(train_df[\"polarity\"].tolist())\n",
        "y_test_encoded = label_encoder.transform(test_df[\"polarity\"].tolist())\n",
        "y_val_encoded = label_encoder.transform(val_df[\"polarity\"].tolist())\n",
        "\n",
        "# Create tensor\n",
        "train_indices_tensor = torch.tensor(train_indices, dtype=torch.long)\n",
        "test_indices_tensor = torch.tensor(test_indices, dtype=torch.long)\n",
        "val_indices_tensor = torch.tensor(val_indices, dtype=torch.long)\n",
        "train_labels_tensor = torch.tensor(y_train_encoded, dtype=torch.long)\n",
        "test_labels_tensor = torch.tensor(y_test_encoded, dtype=torch.long)\n",
        "val_labels_tensor = torch.tensor(y_val_encoded, dtype=torch.long)\n",
        "\n",
        "train_dataset = TensorDataset(train_indices_tensor, train_labels_tensor)\n",
        "test_dataset = TensorDataset(test_indices_tensor, test_labels_tensor)\n",
        "val_dataset = TensorDataset(val_indices_tensor, val_labels_tensor)\n",
        "\n",
        "batch_size = 64\n",
        "train_loader = DataLoader(dataset=train_dataset, batch_size=batch_size, shuffle=True)\n",
        "test_loader = DataLoader(dataset=test_dataset, batch_size=batch_size, shuffle=False)\n",
        "val_loader = DataLoader(dataset=val_dataset, batch_size=batch_size, shuffle=False)\n",
        "\n",
        "# Create data loader\n",
        "word_emb_model = api.load(\"glove-twitter-100\")\n",
        "word_emb_model2 = api.load(\"glove-twitter-200\")\n",
        "emb_dim = word_emb_model.vector_size + word_emb_model2.vector_size\n",
        "emb_table = np.zeros((len(vocab), emb_dim))\n",
        "for i, word in enumerate(vocab):\n",
        "    if word in word_emb_model and word in word_emb_model2:\n",
        "        emb_table[i] = np.concatenate((word_emb_model[word], word_emb_model2[word]))\n",
        "    elif word in word_emb_model:\n",
        "        emb_table[i, : word_emb_model.vector_size] = word_emb_model[word]\n",
        "    elif word in word_emb_model2:\n",
        "        emb_table[i, word_emb_model.vector_size :] = word_emb_model2[word]"
      ]
    },
    {
      "cell_type": "markdown",
      "metadata": {
        "id": "1FA2ao2l8hOg"
      },
      "source": [
        "# 2.Model Implementation"
      ]
    },
    {
      "cell_type": "markdown",
      "metadata": {
        "id": "CtkfKuUi3ARD"
      },
      "source": [
        "## Model 1 - Baseline BiLSTM1\n",
        "Aspect representation is concatenated and placed at the front of input layer."
      ]
    },
    {
      "cell_type": "code",
      "execution_count": 21,
      "metadata": {
        "id": "p1gLf7sSnw9b"
      },
      "outputs": [],
      "source": [
        "class Model1(nn.Module):\n",
        "    def __init__(self, input_dim, hidden_dim, output_dim, num_layers=2, dropout=0.5):\n",
        "        super(Model1, self).__init__()\n",
        "        # Bi-directional LSTM layer definition:\n",
        "        self.lstm = nn.LSTM(\n",
        "            input_dim,\n",
        "            hidden_dim,\n",
        "            num_layers=num_layers,\n",
        "            batch_first=True,\n",
        "            bidirectional=True,\n",
        "            dropout=dropout,\n",
        "        )\n",
        "\n",
        "        # Fully connected layer that projects from hidden state space to output space\n",
        "        self.fc = nn.Linear(hidden_dim * 2, output_dim)\n",
        "\n",
        "        # Dropout layer\n",
        "        self.dropout = nn.Dropout(dropout)\n",
        "\n",
        "    def forward(self, x):\n",
        "        lstm_out, _ = self.lstm(x)\n",
        "\n",
        "        # Get the last time-step output from all sequences in the batch\n",
        "        polarity_space = self.fc(self.dropout(lstm_out[:, -1, :]))\n",
        "        return F.softmax(polarity_space, dim=-1)"
      ]
    },
    {
      "cell_type": "markdown",
      "metadata": {
        "id": "KeHT7CFB27pO"
      },
      "source": [
        "## Model 2 - Baseline BiLSTM2\n",
        "Aspect representation is concatenated in the hidden layer and placed at the end."
      ]
    },
    {
      "cell_type": "code",
      "execution_count": null,
      "metadata": {
        "id": "-qudI8EuNC4M"
      },
      "outputs": [],
      "source": [
        "class Model2(nn.Module):\n",
        "    def __init__(self, input_dim, hidden_dim, output_dim, num_layers=2, dropout=0.5):\n",
        "        super(Model2, self).__init__()\n",
        "        # Bi-directional LSTM layer definition:\n",
        "        self.lstm = nn.LSTM(\n",
        "            input_dim,\n",
        "            hidden_dim,\n",
        "            num_layers=num_layers,\n",
        "            batch_first=True,\n",
        "            bidirectional=True,\n",
        "            dropout=dropout,\n",
        "        )\n",
        "\n",
        "        # Fully connected layer that projects from hidden state space to output space\n",
        "        self.fc = nn.Linear(hidden_dim * 2 + input_dim, output_dim)\n",
        "\n",
        "        # Dropout layer\n",
        "        self.dropout = nn.Dropout(dropout)\n",
        "\n",
        "    def forward(self, sentence_embeddings, aspect_embeddings):\n",
        "        # Generate initial sentence representation using LSTM\n",
        "        lstm_out, _ = self.lstm(sentence_embeddings)\n",
        "        lstm_out_mean = torch.mean(\n",
        "            lstm_out, dim=1\n",
        "        )  # Average pooling to obtain the representation of the entire sentence\n",
        "\n",
        "        # Concatenating LSTM outputs and aspect embeddings\n",
        "        combined_representation = torch.cat((lstm_out_mean, aspect_embeddings), dim=1)\n",
        "\n",
        "        # Fully connected layer for classification\n",
        "        polarity_space = self.fc(self.dropout(combined_representation))\n",
        "        return F.softmax(polarity_space, dim=-1)"
      ]
    },
    {
      "cell_type": "markdown",
      "metadata": {
        "id": "BL0nX2to7iYs"
      },
      "source": [
        "## model3 implementation"
      ]
    },
    {
      "cell_type": "code",
      "execution_count": null,
      "metadata": {
        "id": "-qevpA7r7hti"
      },
      "outputs": [],
      "source": [
        "class Model3(nn.Module):\n",
        "    def __init__(\n",
        "        self, input_dim, aspect_dim, hidden_dim, output_dim, num_layers=1, dropout=0.1\n",
        "    ):\n",
        "        super(Model3, self).__init__()\n",
        "        self.hidden_dim = hidden_dim\n",
        "\n",
        "        # BiLSTM\n",
        "        self.lstm = nn.LSTM(\n",
        "            input_size=input_dim + aspect_dim,\n",
        "            hidden_size=hidden_dim,\n",
        "            num_layers=num_layers,\n",
        "            dropout=dropout,\n",
        "            bidirectional=False,\n",
        "            batch_first=True,\n",
        "        )\n",
        "        self.dropout = nn.Dropout(dropout)\n",
        "\n",
        "        # Attention layer parameters\n",
        "        self.w = nn.Linear(hidden_dim + aspect_dim, 1)\n",
        "\n",
        "        # final projection layer\n",
        "        self.Wp = nn.Linear(hidden_dim, hidden_dim)\n",
        "        self.Wx = nn.Linear(hidden_dim, hidden_dim)\n",
        "\n",
        "        # Classifier\n",
        "        self.classifier = nn.Linear(hidden_dim, output_dim)\n",
        "\n",
        "    def forward(self, sentences, aspects):\n",
        "        # Extend level word embeddings to dimensions matching sentences\n",
        "        aspects_expanded = aspects.unsqueeze(1).expand(-1, sentences.size(1), -1)\n",
        "\n",
        "        # Concatenate level word embeddings with each word vector\n",
        "        lstm_input = torch.cat((sentences, aspects_expanded), dim=2)\n",
        "\n",
        "        # LSTM output\n",
        "        lstm_out, _ = self.lstm(lstm_input)\n",
        "        lstm_out = self.dropout(lstm_out)\n",
        "\n",
        "        # attention mechanism\n",
        "        M = torch.tanh(torch.cat((lstm_out, aspects_expanded), dim=2))\n",
        "        attention_weights = F.softmax(self.w(M), dim=1)\n",
        "        attention_weights = attention_weights.transpose(1, 2)\n",
        "\n",
        "        # weighted representation\n",
        "        r = torch.bmm(attention_weights, lstm_out).squeeze(1)\n",
        "\n",
        "        # The final expression of the combination\n",
        "        h_star = torch.tanh(self.Wp(r) + self.Wx(lstm_out[:, -1, :]))\n",
        "\n",
        "        # Classification output\n",
        "        output = self.classifier(h_star)\n",
        "        return F.log_softmax(output, dim=-1), attention_weights\n",
        "        # return F.softmax(output, dim=-1), attention_weights"
      ]
    },
    {
      "cell_type": "markdown",
      "metadata": {
        "id": "wxNEEPb8fB-6"
      },
      "source": [
        "## model4 implementation"
      ]
    },
    {
      "cell_type": "markdown",
      "metadata": {
        "id": "uMwwwiAzf_wF"
      },
      "source": [
        "### glove"
      ]
    },
    {
      "cell_type": "code",
      "execution_count": null,
      "metadata": {
        "id": "wBRihDB9fGqq"
      },
      "outputs": [],
      "source": [
        "class BiLSTMClassifier(nn.Module):\n",
        "    def __init__(self, embedding_dim, hidden_dim, vocab_size, output_dim, emb_table):\n",
        "        super(BiLSTMClassifier, self).__init__()\n",
        "        self.embedding = nn.Embedding(vocab_size, embedding_dim)\n",
        "        self.embedding.weight.data.copy_(torch.from_numpy(emb_table))\n",
        "        self.embedding.weight.requires_grad = False\n",
        "        self.lstm = nn.LSTM(\n",
        "            embedding_dim,\n",
        "            hidden_dim,\n",
        "            num_layers=1,\n",
        "            batch_first=True,\n",
        "            bidirectional=True,\n",
        "        )\n",
        "        self.fc = nn.Linear(hidden_dim * 2, output_dim)\n",
        "\n",
        "    def forward(self, x):\n",
        "        x = self.embedding(x)\n",
        "        x, _ = self.lstm(x)\n",
        "        x = self.fc(x[:, -1, :])\n",
        "        return x"
      ]
    },
    {
      "cell_type": "markdown",
      "metadata": {
        "id": "EzGuzHPE87Ya"
      },
      "source": [
        "# 3.Testing and Evaluation\n",
        "(You can add as many code blocks and text blocks as you need. However, YOU SHOULD NOT MODIFY the section title)"
      ]
    },
    {
      "cell_type": "markdown",
      "metadata": {
        "id": "WW_2v7Q26-eO"
      },
      "source": [
        "## Model 1 - Baseline BiLSTM"
      ]
    },
    {
      "cell_type": "code",
      "execution_count": 22,
      "metadata": {
        "colab": {
          "base_uri": "https://localhost:8080/"
        },
        "id": "Gq2IHgsT7Ych",
        "outputId": "a0b97143-6fc0-4781-8c35-17a3113b7a13"
      },
      "outputs": [
        {
          "name": "stdout",
          "output_type": "stream",
          "text": [
            "Epoch [1/10], Train Loss = 0.9796, Train Accuracy: 0.5704\n",
            "Epoch [2/10], Train Loss = 0.9090, Train Accuracy: 0.6324\n",
            "Epoch [3/10], Train Loss = 0.8952, Train Accuracy: 0.6443\n",
            "Epoch [4/10], Train Loss = 0.8872, Train Accuracy: 0.6542\n",
            "Epoch [5/10], Train Loss = 0.8842, Train Accuracy: 0.6515\n",
            "Epoch [6/10], Train Loss = 0.8781, Train Accuracy: 0.6643\n",
            "Epoch [7/10], Train Loss = 0.8727, Train Accuracy: 0.6680\n",
            "Epoch [8/10], Train Loss = 0.8724, Train Accuracy: 0.6683\n",
            "Epoch [9/10], Train Loss = 0.8692, Train Accuracy: 0.6717\n",
            "Epoch [10/10], Train Loss = 0.8647, Train Accuracy: 0.6777\n",
            "Test Accuracy: 0.6537, Test Macro-F1: 0.6165\n"
          ]
        }
      ],
      "source": [
        "device = torch.device(\"cuda\" if torch.cuda.is_available() else \"cpu\")\n",
        "model1 = Model1(\n",
        "    input_dim=X_train_t.shape[2],\n",
        "    hidden_dim=128,\n",
        "    output_dim=3,\n",
        "    num_layers=2,\n",
        "    dropout=0.5,\n",
        ").to(device)\n",
        "criterion = nn.CrossEntropyLoss()\n",
        "optimizer = optim.Adam(model1.parameters(), lr=0.001)\n",
        "\n",
        "\n",
        "def train_model(model, train_loader, criterion, optimizer, num_epochs=10):\n",
        "    model.train()\n",
        "    for epoch in range(num_epochs):\n",
        "        total_loss = 0\n",
        "        all_predictions = []\n",
        "        all_labels = []\n",
        "\n",
        "        for data, targets in train_loader:\n",
        "            # Move data to GPU or CPU\n",
        "            data, targets = data.to(device), targets.to(device)\n",
        "\n",
        "            # Clear gradient\n",
        "            optimizer.zero_grad()\n",
        "\n",
        "            # Forward propagation\n",
        "            outputs = model(data)\n",
        "\n",
        "            # Calculate loss\n",
        "            loss = criterion(outputs, targets)\n",
        "            total_loss += loss.item()\n",
        "\n",
        "            # Backpropagate and optimize\n",
        "            loss.backward()\n",
        "            optimizer.step()\n",
        "\n",
        "            # Record predictions and labels\n",
        "            _, predicted = torch.max(outputs, 1)\n",
        "            all_predictions.extend(predicted.cpu().numpy())\n",
        "            all_labels.extend(targets.cpu().numpy())\n",
        "\n",
        "        # Training set accuracy and loss\n",
        "        train_accuracy = accuracy_score(all_labels, all_predictions)\n",
        "        avg_train_loss = total_loss / len(train_loader)\n",
        "        print(\n",
        "            f\"Epoch [{epoch+1}/{num_epochs}], Train Loss = {avg_train_loss:.4f}, Train Accuracy: {train_accuracy:.4f}\"\n",
        "        )\n",
        "\n",
        "\n",
        "train_model(model1, train_loader, criterion, optimizer)\n",
        "\n",
        "\n",
        "def evaluate_model(model, data_loader):\n",
        "    model.eval()\n",
        "    all_preds, all_labels = [], []\n",
        "    with torch.no_grad():\n",
        "        for data, labels in data_loader:\n",
        "            data, labels = data.to(device), labels.to(device)\n",
        "            outputs = model(data)\n",
        "            _, preds = torch.max(outputs, dim=1)\n",
        "            all_preds.extend(preds.cpu().numpy())\n",
        "            all_labels.extend(labels.cpu().numpy())\n",
        "\n",
        "    test_accuracy = accuracy_score(all_labels, all_preds)\n",
        "    macro_f1 = f1_score(all_labels, all_preds, average=\"macro\")\n",
        "    print(f\"Test Accuracy: {test_accuracy:.4f}, Test Macro-F1: {macro_f1:.4f}\")\n",
        "\n",
        "\n",
        "evaluate_model(model1, test_loader)"
      ]
    },
    {
      "cell_type": "code",
      "execution_count": 25,
      "metadata": {
        "colab": {
          "base_uri": "https://localhost:8080/"
        },
        "id": "JQDKQwFlrquk",
        "outputId": "57803342-ff95-4259-b7be-b4486aafff81"
      },
      "outputs": [
        {
          "name": "stdout",
          "output_type": "stream",
          "text": [
            "Fitting 10 folds for each of 4 candidates, totalling 40 fits\n"
          ]
        }
      ],
      "source": [
        "model = NeuralNetClassifier(\n",
        "    Model1,\n",
        "    module__input_dim=X_train_t.shape[2],\n",
        "    module__hidden_dim=128,\n",
        "    module__output_dim=3,\n",
        "    module__num_layers=2,\n",
        "    module__dropout=0.5,\n",
        "    criterion=nn.CrossEntropyLoss(),\n",
        "    max_epochs=10,\n",
        "    batch_size=64,\n",
        "    optimizer=optim.Adagrad,\n",
        "    optimizer__lr=0.01,\n",
        "    verbose=True,\n",
        ")\n",
        "\n",
        "param_grid = {\n",
        "    # 'module__dropout_rate': [0.0, 0.1, 0.2, 0.3, 0.4, 0.5],\n",
        "    # 'optimizer': [optim.SGD, optim.RMSprop, optim.Adagrad, optim.Adadelta,\n",
        "    #   optim.Adam, optim.Adamax, optim.NAdam],  #optim.Adagrad\n",
        "    # 'optimizer__lr': [0.00001, 0.0001,0.001, 0.01, 0.1], # 0.01\n",
        "    # \"batch_size\": [16, 32, 64, 128, 256], #64\n",
        "    # \"max_epochs\": [10, 30, 50, 70, 100],\n",
        "    \"module__hidden_dim\": [64, 128, 256, 512]\n",
        "}\n",
        "\n",
        "grid = GridSearchCV(estimator=model, param_grid=param_grid, n_jobs=-1, cv=10, verbose=3)\n",
        "grid_result = grid.fit(X_val_t, y_val_t)\n",
        "\n",
        "# summarize results\n",
        "print(\"Best: %f using %s\" % (grid_result.best_score_, grid_result.best_params_))\n",
        "means = grid_result.cv_results_[\"mean_test_score\"]\n",
        "stds = grid_result.cv_results_[\"std_test_score\"]\n",
        "params = grid_result.cv_results_[\"params\"]\n",
        "for mean, stdev, param in zip(means, stds, params):\n",
        "    print(\"Mean Validation Accuracy %.4f (%.4f) with: %r\" % (mean, stdev, param))"
      ]
    },
    {
      "cell_type": "markdown",
      "metadata": {
        "id": "FVmagbbp3ara"
      },
      "source": [
        "## model2 testing"
      ]
    },
    {
      "cell_type": "code",
      "execution_count": null,
      "metadata": {
        "colab": {
          "base_uri": "https://localhost:8080/"
        },
        "id": "T_Pog15t4kcy",
        "outputId": "72c7cb1a-091d-462e-c0c1-3307572790eb"
      },
      "outputs": [
        {
          "name": "stdout",
          "output_type": "stream",
          "text": [
            "Epoch [1/10], Train Loss: 0.9828, Train Accuracy: 0.5614, Val Loss: 0.9314, Val Accuracy: 0.6149\n",
            "Epoch [2/10], Train Loss: 0.9291, Train Accuracy: 0.6151, Val Loss: 0.9191, Val Accuracy: 0.6149\n",
            "Epoch [3/10], Train Loss: 0.9138, Train Accuracy: 0.6291, Val Loss: 0.9000, Val Accuracy: 0.6318\n",
            "Epoch [4/10], Train Loss: 0.9035, Train Accuracy: 0.6399, Val Loss: 0.9169, Val Accuracy: 0.6182\n",
            "Epoch [5/10], Train Loss: 0.9027, Train Accuracy: 0.6401, Val Loss: 0.9077, Val Accuracy: 0.6284\n",
            "Epoch [6/10], Train Loss: 0.9003, Train Accuracy: 0.6413, Val Loss: 0.8972, Val Accuracy: 0.6306\n",
            "Epoch [7/10], Train Loss: 0.8990, Train Accuracy: 0.6439, Val Loss: 0.8988, Val Accuracy: 0.6261\n",
            "Epoch [8/10], Train Loss: 0.8915, Train Accuracy: 0.6471, Val Loss: 0.8943, Val Accuracy: 0.6408\n",
            "Epoch [9/10], Train Loss: 0.8829, Train Accuracy: 0.6626, Val Loss: 0.8876, Val Accuracy: 0.6588\n",
            "Epoch [10/10], Train Loss: 0.9295, Train Accuracy: 0.6147, Val Loss: 0.9177, Val Accuracy: 0.6160\n",
            "Test Loss: 0.9129, Test Accuracy: 0.6215\n"
          ]
        }
      ],
      "source": [
        "embedding_dim = 300\n",
        "hidden_dim = 128\n",
        "output_dim = 3\n",
        "num_layers = 2\n",
        "dropout = 0.5\n",
        "learning_rate = 0.001\n",
        "num_epochs = 10\n",
        "\n",
        "# Instantiate the model\n",
        "model2 = Model2(embedding_dim, hidden_dim, output_dim, num_layers, dropout)\n",
        "\n",
        "# Loss functions and optimizers\n",
        "criterion = nn.CrossEntropyLoss()\n",
        "optimizer = optim.Adam(model2.parameters(), lr=learning_rate)\n",
        "\n",
        "device = torch.device(\"cuda\" if torch.cuda.is_available() else \"cpu\")\n",
        "model2 = model2.to(device)\n",
        "\n",
        "\n",
        "# Evaluation function: returns loss and accuracy\n",
        "def evaluate(model, dataloader, criterion, device):\n",
        "    model.eval()\n",
        "    total_loss = 0\n",
        "    all_predictions = []\n",
        "    all_labels = []\n",
        "\n",
        "    with torch.no_grad():\n",
        "        for sentences, aspects, labels in dataloader:\n",
        "            sentences = sentences.to(device)\n",
        "            aspects = aspects.to(device)\n",
        "            labels = labels.to(device)\n",
        "\n",
        "            outputs = model(sentences, aspects)\n",
        "            loss = criterion(outputs, labels)\n",
        "            total_loss += loss.item()\n",
        "\n",
        "            _, predicted = torch.max(outputs, 1)\n",
        "            all_predictions.extend(predicted.cpu().numpy())\n",
        "            all_labels.extend(labels.cpu().numpy())\n",
        "\n",
        "    avg_loss = total_loss / len(dataloader)\n",
        "    accuracy = accuracy_score(all_labels, all_predictions)\n",
        "    return avg_loss, accuracy\n",
        "\n",
        "\n",
        "# Training and validation functions\n",
        "def train_and_evaluate(\n",
        "    model, train_loader, val_loader, criterion, optimizer, num_epochs, device\n",
        "):\n",
        "    for epoch in range(num_epochs):\n",
        "        model.train()\n",
        "        total_loss = 0\n",
        "        all_predictions = []\n",
        "        all_labels = []\n",
        "\n",
        "        for sentence_embeddings, aspect_embeddings, labels in train_loader:\n",
        "            # Move data to GPU or CPU\n",
        "            sentence_embeddings = sentence_embeddings.to(device)\n",
        "            aspect_embeddings = aspect_embeddings.to(device)\n",
        "            labels = labels.to(device)\n",
        "\n",
        "            # Clear gradient\n",
        "            optimizer.zero_grad()\n",
        "\n",
        "            # forward propagation\n",
        "            outputs = model(sentence_embeddings, aspect_embeddings)\n",
        "\n",
        "            # Calculate losses\n",
        "            loss = criterion(outputs, labels)\n",
        "            total_loss += loss.item()\n",
        "\n",
        "            # Backpropagate and optimize\n",
        "            loss.backward()\n",
        "            optimizer.step()\n",
        "\n",
        "            # Record predictions and labels\n",
        "            _, predicted = torch.max(outputs, 1)\n",
        "            all_predictions.extend(predicted.cpu().numpy())\n",
        "            all_labels.extend(labels.cpu().numpy())\n",
        "\n",
        "        # Training set accuracy\n",
        "        train_accuracy = accuracy_score(all_labels, all_predictions)\n",
        "        avg_train_loss = total_loss / len(train_loader)\n",
        "\n",
        "        # Validation set evaluation\n",
        "        val_loss, val_accuracy = evaluate(model, val_loader, criterion, device)\n",
        "\n",
        "        # Output loss and accuracy for training and validation\n",
        "        print(\n",
        "            f\"Epoch [{epoch+1}/{num_epochs}], \"\n",
        "            f\"Train Loss: {avg_train_loss:.4f}, Train Accuracy: {train_accuracy:.4f}, \"\n",
        "            f\"Val Loss: {val_loss:.4f}, Val Accuracy: {val_accuracy:.4f}\"\n",
        "        )\n",
        "\n",
        "\n",
        "train_and_evaluate(\n",
        "    model2, train_loader, val_loader, criterion, optimizer, num_epochs, device\n",
        ")\n",
        "\n",
        "# After training, evaluate on the test set\n",
        "test_loss, test_accuracy = evaluate(model2, test_loader, criterion, device)\n",
        "print(f\"Test Loss: {test_loss:.4f}, Test Accuracy: {test_accuracy:.4f}\")"
      ]
    },
    {
      "cell_type": "markdown",
      "metadata": {
        "id": "PsnY6r8X7oFS"
      },
      "source": [
        "## model3 testing"
      ]
    },
    {
      "cell_type": "code",
      "execution_count": null,
      "metadata": {
        "colab": {
          "base_uri": "https://localhost:8080/"
        },
        "id": "j3m0RRD84-11",
        "outputId": "301dbbcf-49d3-43d5-d605-24d2f5a0bfc3"
      },
      "outputs": [
        {
          "name": "stdout",
          "output_type": "stream",
          "text": [
            "Epoch 1/10: Train Loss = 0.8998, Val Loss = 0.8196, Val Accuracy = 0.6115\n",
            "Epoch 2/10: Train Loss = 0.8229, Val Loss = 0.7745, Val Accuracy = 0.6475\n",
            "Epoch 3/10: Train Loss = 0.7737, Val Loss = 0.7428, Val Accuracy = 0.6734\n",
            "Epoch 4/10: Train Loss = 0.7272, Val Loss = 0.6986, Val Accuracy = 0.7106\n",
            "Epoch 5/10: Train Loss = 0.6796, Val Loss = 0.7041, Val Accuracy = 0.6836\n",
            "Epoch 6/10: Train Loss = 0.6388, Val Loss = 0.6791, Val Accuracy = 0.7207\n",
            "Epoch 7/10: Train Loss = 0.5988, Val Loss = 0.6968, Val Accuracy = 0.7173\n",
            "Epoch 8/10: Train Loss = 0.5636, Val Loss = 0.6608, Val Accuracy = 0.7241\n",
            "Epoch 9/10: Train Loss = 0.5180, Val Loss = 0.6837, Val Accuracy = 0.7162\n",
            "Epoch 10/10: Train Loss = 0.4779, Val Loss = 0.6691, Val Accuracy = 0.7342\n",
            "Test Loss = 0.7069, Test Accuracy = 0.7114\n"
          ]
        }
      ],
      "source": [
        "input_dim = 300\n",
        "aspect_dim = 300\n",
        "hidden_dim = 128\n",
        "output_dim = 3\n",
        "num_layers = 1\n",
        "dropout_p = 0.2\n",
        "\n",
        "\n",
        "model3 = Model3(input_dim, aspect_dim, hidden_dim, output_dim, num_layers, dropout_p)\n",
        "\n",
        "\n",
        "# Loss functions and optimizers\n",
        "criterion = nn.CrossEntropyLoss()\n",
        "optimizer = optim.Adam(model3.parameters(), lr=0.001)\n",
        "\n",
        "\n",
        "# training function\n",
        "def train(model, dataloader, criterion, optimizer, device):\n",
        "    model.train()\n",
        "    total_loss = 0\n",
        "    for sentences, aspects, labels in dataloader:\n",
        "        sentences, aspects, labels = (\n",
        "            sentences.to(device),\n",
        "            aspects.to(device),\n",
        "            labels.to(device),\n",
        "        )\n",
        "        optimizer.zero_grad()\n",
        "        outputs, _ = model(sentences, aspects)\n",
        "        loss = criterion(outputs, labels)\n",
        "        loss.backward()\n",
        "        optimizer.step()\n",
        "        total_loss += loss.item()\n",
        "    return total_loss / len(dataloader)\n",
        "\n",
        "\n",
        "# Verification function\n",
        "def validate(model, dataloader, criterion, device):\n",
        "    model.eval()\n",
        "    total_loss = 0\n",
        "    correct_predictions = 0\n",
        "    with torch.no_grad():\n",
        "        for sentences, aspects, labels in dataloader:\n",
        "            sentences, aspects, labels = (\n",
        "                sentences.to(device),\n",
        "                aspects.to(device),\n",
        "                labels.to(device),\n",
        "            )\n",
        "            outputs, _ = model(sentences, aspects)\n",
        "            loss = criterion(outputs, labels)\n",
        "            total_loss += loss.item()\n",
        "            _, preds = torch.max(outputs, 1)\n",
        "            correct_predictions += (preds == labels).sum().item()\n",
        "    avg_loss = total_loss / len(dataloader)\n",
        "    accuracy = correct_predictions / len(dataloader.dataset)\n",
        "    return avg_loss, accuracy\n",
        "\n",
        "\n",
        "# Train and validate models\n",
        "num_epochs = 10\n",
        "device = torch.device(\"cuda\" if torch.cuda.is_available() else \"cpu\")\n",
        "model3.to(device)\n",
        "\n",
        "for epoch in range(num_epochs):\n",
        "    train_loss = train(model3, train_loader, criterion, optimizer, device)\n",
        "    val_loss, val_accuracy = validate(model3, val_loader, criterion, device)\n",
        "    print(\n",
        "        f\"Epoch {epoch+1}/{num_epochs}: \"\n",
        "        f\"Train Loss = {train_loss:.4f}, \"\n",
        "        f\"Val Loss = {val_loss:.4f}, Val Accuracy = {val_accuracy:.4f}\"\n",
        "    )\n",
        "\n",
        "# Evaluate on the test set\n",
        "test_loss, test_accuracy = validate(model3, test_loader, criterion, device)\n",
        "print(f\"Test Loss = {test_loss:.4f}, Test Accuracy = {test_accuracy:.4f}\")"
      ]
    },
    {
      "cell_type": "markdown",
      "metadata": {
        "id": "OlK6Xad1mVuI"
      },
      "source": [
        "### Visual attention"
      ]
    },
    {
      "cell_type": "code",
      "execution_count": null,
      "metadata": {
        "colab": {
          "base_uri": "https://localhost:8080/",
          "height": 324
        },
        "id": "mjBywDmdmisn",
        "outputId": "9b8e69ea-2dde-49d5-b545-2bffd6da5ba2"
      },
      "outputs": [
        {
          "data": {
            "image/png": "[encoded data removed]",
            "text/plain": [
              "<Figure size 2000x200 with 2 Axes>"
            ]
          },
          "metadata": {},
          "output_type": "display_data"
        }
      ],
      "source": [
        "import torch\n",
        "import matplotlib.pyplot as plt\n",
        "import seaborn as sns\n",
        "\n",
        "device = torch.device(\"cuda\" if torch.cuda.is_available() else \"cpu\")\n",
        "model3.to(device)\n",
        "\n",
        "\n",
        "# Function to visualize attention weights\n",
        "def visualize_attention(sentence, aspect, attention_weights):\n",
        "    \"\"\"\n",
        "    Visualize attention weights as heat maps.\n",
        "    :param sentence: Input sentences (list)\n",
        "    :param aspect: aspect words\n",
        "    :param attention_weights: attention weight (tensor)\n",
        "    \"\"\"\n",
        "    plt.figure(figsize=(20, 2))\n",
        "    sns.heatmap(\n",
        "        attention_weights,\n",
        "        annot=True,\n",
        "        fmt=\".2f\",\n",
        "        xticklabels=sentence,\n",
        "        yticklabels=[aspect],\n",
        "        cmap=\"Reds\",\n",
        "    )\n",
        "    plt.xlabel(\"Sentence Tokens\")\n",
        "    plt.ylabel(\"Aspect\")\n",
        "    plt.title(\"Attention Visualization\")\n",
        "    plt.show()\n",
        "\n",
        "\n",
        "target_index = 0\n",
        "\n",
        "\n",
        "model3.eval()\n",
        "with torch.no_grad():\n",
        "    sentences, aspects = None, None\n",
        "    current_index = 0\n",
        "    for batch_sentences, batch_aspects, _ in test_loader:\n",
        "        batch_size = batch_sentences.size(0)\n",
        "        if current_index <= target_index < current_index + batch_size:\n",
        "            relative_index = target_index - current_index\n",
        "            sentences = batch_sentences[relative_index].unsqueeze(0).to(device)\n",
        "            aspects = batch_aspects[relative_index].unsqueeze(0).to(device)\n",
        "            break\n",
        "        current_index += batch_size\n",
        "\n",
        "    # Get the attention weight from the model\n",
        "    _, attention_weights = model3(sentences, aspects)\n",
        "\n",
        "    # Get `tokenized_sentence` and `aspect` from `test_df`\n",
        "    sentence_example = test_df[\"tokenized_sentence\"][target_index]\n",
        "    aspect_example = test_df[\"aspect\"][target_index]\n",
        "\n",
        "    visualize_attention(\n",
        "        sentence_example, aspect_example, attention_weights[0].cpu().numpy()\n",
        "    )"
      ]
    },
    {
      "cell_type": "markdown",
      "metadata": {
        "id": "ekURaEwApv_v"
      },
      "source": [
        "## model4 testing"
      ]
    },
    {
      "cell_type": "markdown",
      "metadata": {
        "id": "EfJSzwEFqcuv"
      },
      "source": [
        "### glove"
      ]
    },
    {
      "cell_type": "code",
      "execution_count": null,
      "metadata": {
        "colab": {
          "base_uri": "https://localhost:8080/"
        },
        "id": "TsVmSkK2q8Hl",
        "outputId": "de0040b2-7141-4c6e-be43-7ed713c216e0"
      },
      "outputs": [
        {
          "name": "stdout",
          "output_type": "stream",
          "text": [
            "Epoch [1/100], Loss: 1.0780, Train Accuracy: 0.4289\n",
            "Test Accuracy: 0.4362\n",
            "Epoch [2/100], Loss: 1.0773, Train Accuracy: 0.4344\n",
            "Test Accuracy: 0.4362\n",
            "Epoch [3/100], Loss: 1.0765, Train Accuracy: 0.4343\n",
            "Test Accuracy: 0.4362\n",
            "Epoch [4/100], Loss: 1.0764, Train Accuracy: 0.4343\n",
            "Test Accuracy: 0.4362\n",
            "Epoch [5/100], Loss: 1.0768, Train Accuracy: 0.4344\n",
            "Test Accuracy: 0.4362\n",
            "Epoch [6/100], Loss: 1.0762, Train Accuracy: 0.4343\n",
            "Test Accuracy: 0.4362\n",
            "Epoch [7/100], Loss: 1.0745, Train Accuracy: 0.4339\n",
            "Test Accuracy: 0.4340\n",
            "Epoch [8/100], Loss: 1.0754, Train Accuracy: 0.4336\n",
            "Test Accuracy: 0.4362\n",
            "Epoch [9/100], Loss: 1.0764, Train Accuracy: 0.4341\n",
            "Test Accuracy: 0.4362\n",
            "Epoch [10/100], Loss: 1.0706, Train Accuracy: 0.4344\n",
            "Test Accuracy: 0.4340\n",
            "Epoch [11/100], Loss: 1.0422, Train Accuracy: 0.4258\n",
            "Test Accuracy: 0.4562\n",
            "Epoch [12/100], Loss: 1.0208, Train Accuracy: 0.4437\n",
            "Test Accuracy: 0.4462\n",
            "Epoch [13/100], Loss: 1.0035, Train Accuracy: 0.4528\n",
            "Test Accuracy: 0.4573\n",
            "Epoch [14/100], Loss: 0.9919, Train Accuracy: 0.4590\n",
            "Test Accuracy: 0.4362\n",
            "Epoch [15/100], Loss: 0.9748, Train Accuracy: 0.4554\n",
            "Test Accuracy: 0.4584\n",
            "Epoch [16/100], Loss: 0.9548, Train Accuracy: 0.4591\n",
            "Test Accuracy: 0.4639\n",
            "Epoch [17/100], Loss: 0.9351, Train Accuracy: 0.4638\n",
            "Test Accuracy: 0.4451\n",
            "Epoch [18/100], Loss: 0.9231, Train Accuracy: 0.4674\n",
            "Test Accuracy: 0.4650\n",
            "Epoch [19/100], Loss: 0.9169, Train Accuracy: 0.4671\n",
            "Test Accuracy: 0.4606\n",
            "Epoch [20/100], Loss: 0.8990, Train Accuracy: 0.4714\n",
            "Test Accuracy: 0.4451\n",
            "Epoch [21/100], Loss: 0.8831, Train Accuracy: 0.4714\n",
            "Test Accuracy: 0.4417\n",
            "Epoch [22/100], Loss: 0.8663, Train Accuracy: 0.4663\n",
            "Test Accuracy: 0.4562\n",
            "Epoch [23/100], Loss: 0.8558, Train Accuracy: 0.4853\n",
            "Test Accuracy: 0.4528\n",
            "Epoch [24/100], Loss: 0.8569, Train Accuracy: 0.4739\n",
            "Test Accuracy: 0.4628\n",
            "Epoch [25/100], Loss: 0.8470, Train Accuracy: 0.4738\n",
            "Test Accuracy: 0.4606\n",
            "Epoch [26/100], Loss: 0.8301, Train Accuracy: 0.4807\n",
            "Test Accuracy: 0.4384\n",
            "Epoch [27/100], Loss: 0.8273, Train Accuracy: 0.4757\n",
            "Test Accuracy: 0.4395\n",
            "Epoch [28/100], Loss: 0.8217, Train Accuracy: 0.4850\n",
            "Test Accuracy: 0.4362\n",
            "Epoch [29/100], Loss: 0.8185, Train Accuracy: 0.4764\n",
            "Test Accuracy: 0.4428\n",
            "Epoch [30/100], Loss: 0.8166, Train Accuracy: 0.4773\n",
            "Test Accuracy: 0.4451\n",
            "Epoch [31/100], Loss: 0.8107, Train Accuracy: 0.4890\n",
            "Test Accuracy: 0.4584\n",
            "Epoch [32/100], Loss: 0.8029, Train Accuracy: 0.4850\n",
            "Test Accuracy: 0.4595\n",
            "Epoch [33/100], Loss: 0.7958, Train Accuracy: 0.4780\n",
            "Test Accuracy: 0.4728\n",
            "Epoch [34/100], Loss: 0.7899, Train Accuracy: 0.4911\n",
            "Test Accuracy: 0.4473\n",
            "Epoch [35/100], Loss: 0.7846, Train Accuracy: 0.4860\n",
            "Test Accuracy: 0.4539\n",
            "Epoch [36/100], Loss: 0.7812, Train Accuracy: 0.4807\n",
            "Test Accuracy: 0.4695\n",
            "Epoch [37/100], Loss: 0.7797, Train Accuracy: 0.4946\n",
            "Test Accuracy: 0.4351\n",
            "Epoch [38/100], Loss: 0.7851, Train Accuracy: 0.4869\n",
            "Test Accuracy: 0.4661\n",
            "Epoch [39/100], Loss: 0.7848, Train Accuracy: 0.4939\n",
            "Test Accuracy: 0.4539\n",
            "Epoch [40/100], Loss: 0.7778, Train Accuracy: 0.4970\n",
            "Test Accuracy: 0.4606\n",
            "Epoch [41/100], Loss: 0.7777, Train Accuracy: 0.4920\n",
            "Test Accuracy: 0.4562\n",
            "Epoch [42/100], Loss: 0.7722, Train Accuracy: 0.5013\n",
            "Test Accuracy: 0.4506\n",
            "Epoch [43/100], Loss: 0.7753, Train Accuracy: 0.4939\n",
            "Test Accuracy: 0.4573\n",
            "Epoch [44/100], Loss: 0.7677, Train Accuracy: 0.4867\n",
            "Test Accuracy: 0.4550\n",
            "Epoch [45/100], Loss: 0.7658, Train Accuracy: 0.4983\n",
            "Test Accuracy: 0.4384\n",
            "Epoch [46/100], Loss: 0.7612, Train Accuracy: 0.4983\n",
            "Test Accuracy: 0.4539\n",
            "Epoch [47/100], Loss: 0.7573, Train Accuracy: 0.4870\n",
            "Test Accuracy: 0.4506\n",
            "Epoch [48/100], Loss: 0.7627, Train Accuracy: 0.4977\n",
            "Test Accuracy: 0.4628\n",
            "Epoch [49/100], Loss: 0.7770, Train Accuracy: 0.4958\n",
            "Test Accuracy: 0.4673\n",
            "Epoch [50/100], Loss: 0.7668, Train Accuracy: 0.4944\n",
            "Test Accuracy: 0.4595\n",
            "Epoch [51/100], Loss: 0.7604, Train Accuracy: 0.4976\n",
            "Test Accuracy: 0.4351\n",
            "Epoch [52/100], Loss: 0.7567, Train Accuracy: 0.5041\n",
            "Test Accuracy: 0.4573\n",
            "Epoch [53/100], Loss: 0.7561, Train Accuracy: 0.4993\n",
            "Test Accuracy: 0.4606\n",
            "Epoch [54/100], Loss: 0.7539, Train Accuracy: 0.4928\n",
            "Test Accuracy: 0.4650\n",
            "Epoch [55/100], Loss: 0.7491, Train Accuracy: 0.5059\n",
            "Test Accuracy: 0.4440\n",
            "Epoch [56/100], Loss: 0.7489, Train Accuracy: 0.5021\n",
            "Test Accuracy: 0.4695\n",
            "Epoch [57/100], Loss: 0.7526, Train Accuracy: 0.5051\n",
            "Test Accuracy: 0.4584\n",
            "Epoch [58/100], Loss: 0.7615, Train Accuracy: 0.4965\n",
            "Test Accuracy: 0.4595\n",
            "Epoch [59/100], Loss: 0.7624, Train Accuracy: 0.4963\n",
            "Test Accuracy: 0.4673\n",
            "Epoch [60/100], Loss: 0.7580, Train Accuracy: 0.5008\n",
            "Test Accuracy: 0.4473\n",
            "Epoch [61/100], Loss: 0.7608, Train Accuracy: 0.5007\n",
            "Test Accuracy: 0.4728\n",
            "Epoch [62/100], Loss: 0.7560, Train Accuracy: 0.4982\n",
            "Test Accuracy: 0.4573\n",
            "Epoch [63/100], Loss: 0.7517, Train Accuracy: 0.5071\n",
            "Test Accuracy: 0.4673\n",
            "Epoch [64/100], Loss: 0.7662, Train Accuracy: 0.5016\n",
            "Test Accuracy: 0.4661\n",
            "Epoch [65/100], Loss: 0.7575, Train Accuracy: 0.5024\n",
            "Test Accuracy: 0.4351\n",
            "Epoch [66/100], Loss: 0.7640, Train Accuracy: 0.5080\n",
            "Test Accuracy: 0.4717\n",
            "Epoch [67/100], Loss: 0.7542, Train Accuracy: 0.4984\n",
            "Test Accuracy: 0.4528\n",
            "Epoch [68/100], Loss: 0.7461, Train Accuracy: 0.4945\n",
            "Test Accuracy: 0.4550\n",
            "Epoch [69/100], Loss: 0.7432, Train Accuracy: 0.5007\n",
            "Test Accuracy: 0.4506\n",
            "Epoch [70/100], Loss: 0.7503, Train Accuracy: 0.4970\n",
            "Test Accuracy: 0.4628\n",
            "Epoch [71/100], Loss: 0.7412, Train Accuracy: 0.5048\n",
            "Test Accuracy: 0.4206\n",
            "Epoch [72/100], Loss: 0.7422, Train Accuracy: 0.4979\n",
            "Test Accuracy: 0.4440\n",
            "Epoch [73/100], Loss: 0.7383, Train Accuracy: 0.5024\n",
            "Test Accuracy: 0.4728\n",
            "Epoch [74/100], Loss: 0.7393, Train Accuracy: 0.4913\n",
            "Test Accuracy: 0.4661\n",
            "Epoch [75/100], Loss: 0.7354, Train Accuracy: 0.5083\n",
            "Test Accuracy: 0.4062\n",
            "Epoch [76/100], Loss: 0.7351, Train Accuracy: 0.5063\n",
            "Test Accuracy: 0.4495\n",
            "Epoch [77/100], Loss: 0.7394, Train Accuracy: 0.5039\n",
            "Test Accuracy: 0.4628\n",
            "Epoch [78/100], Loss: 0.7418, Train Accuracy: 0.5083\n",
            "Test Accuracy: 0.4440\n",
            "Epoch [79/100], Loss: 0.7439, Train Accuracy: 0.5068\n",
            "Test Accuracy: 0.4562\n",
            "Epoch [80/100], Loss: 0.7398, Train Accuracy: 0.5069\n",
            "Test Accuracy: 0.4595\n",
            "Epoch [81/100], Loss: 0.7379, Train Accuracy: 0.5061\n",
            "Test Accuracy: 0.4506\n",
            "Epoch [82/100], Loss: 0.7365, Train Accuracy: 0.4970\n",
            "Test Accuracy: 0.4317\n",
            "Epoch [83/100], Loss: 0.7325, Train Accuracy: 0.5076\n",
            "Test Accuracy: 0.4539\n",
            "Epoch [84/100], Loss: 0.7336, Train Accuracy: 0.5030\n",
            "Test Accuracy: 0.4617\n",
            "Epoch [85/100], Loss: 0.7375, Train Accuracy: 0.5083\n",
            "Test Accuracy: 0.4650\n",
            "Epoch [86/100], Loss: 0.7408, Train Accuracy: 0.5049\n",
            "Test Accuracy: 0.4606\n",
            "Epoch [87/100], Loss: 0.7356, Train Accuracy: 0.5069\n",
            "Test Accuracy: 0.4406\n",
            "Epoch [88/100], Loss: 0.7351, Train Accuracy: 0.5075\n",
            "Test Accuracy: 0.4417\n",
            "Epoch [89/100], Loss: 0.7345, Train Accuracy: 0.5042\n",
            "Test Accuracy: 0.4717\n",
            "Epoch [90/100], Loss: 0.7311, Train Accuracy: 0.5128\n",
            "Test Accuracy: 0.4639\n",
            "Epoch [91/100], Loss: 0.7294, Train Accuracy: 0.5027\n",
            "Test Accuracy: 0.4440\n",
            "Epoch [92/100], Loss: 0.7394, Train Accuracy: 0.5051\n",
            "Test Accuracy: 0.4606\n",
            "Epoch [93/100], Loss: 0.7420, Train Accuracy: 0.4997\n",
            "Test Accuracy: 0.4295\n",
            "Epoch [94/100], Loss: 0.7368, Train Accuracy: 0.5066\n",
            "Test Accuracy: 0.4550\n",
            "Epoch [95/100], Loss: 0.7360, Train Accuracy: 0.5063\n",
            "Test Accuracy: 0.4473\n",
            "Epoch [96/100], Loss: 0.7503, Train Accuracy: 0.5055\n",
            "Test Accuracy: 0.4451\n",
            "Epoch [97/100], Loss: 0.7521, Train Accuracy: 0.5083\n",
            "Test Accuracy: 0.4473\n",
            "Epoch [98/100], Loss: 0.7471, Train Accuracy: 0.4986\n",
            "Test Accuracy: 0.4573\n",
            "Epoch [99/100], Loss: 0.7377, Train Accuracy: 0.5059\n",
            "Test Accuracy: 0.4440\n",
            "Epoch [100/100], Loss: 0.7399, Train Accuracy: 0.5124\n",
            "Test Accuracy: 0.4506\n"
          ]
        }
      ],
      "source": [
        "# Instantiate the model and define training parameters\n",
        "device = torch.device(\"cuda\" if torch.cuda.is_available() else \"cpu\")\n",
        "model = BiLSTMClassifier(\n",
        "    emb_dim, 128, len(vocab), len(label_encoder.classes_), emb_table\n",
        ").to(device)\n",
        "loss_function = nn.CrossEntropyLoss()\n",
        "optimizer = optim.Adam(model.parameters(), lr=0.001)\n",
        "\n",
        "# Train the model and evaluate its performance on the test set after each epoch\n",
        "number_epochs = 100\n",
        "for epoch in range(number_epochs):\n",
        "    model.train()\n",
        "    total_loss = 0\n",
        "    total_correct = 0\n",
        "    total_samples = 0\n",
        "\n",
        "    for sentences, labels in train_loader:\n",
        "        sentences, labels = sentences.to(device), labels.to(device)\n",
        "        outputs = model(sentences)\n",
        "        loss = loss_function(outputs, labels)\n",
        "        optimizer.zero_grad()\n",
        "        loss.backward()\n",
        "        optimizer.step()\n",
        "        total_loss += loss.item()\n",
        "        _, predicted = torch.max(outputs.data, 1)\n",
        "        total_correct += (predicted == labels).sum().item()\n",
        "        total_samples += labels.size(0)\n",
        "\n",
        "    train_accuracy = total_correct / total_samples\n",
        "    print(\n",
        "        f\"Epoch [{epoch+1}/{number_epochs}], Loss: {total_loss/len(train_loader):.4f}, Train Accuracy: {train_accuracy:.4f}\"\n",
        "    )\n",
        "\n",
        "    # Evaluate the model on the test set\n",
        "    model.eval()\n",
        "    total_test_correct = 0\n",
        "    total_test_samples = 0\n",
        "    with torch.no_grad():\n",
        "        for sentences, labels in test_loader:\n",
        "            sentences, labels = sentences.to(device), labels.to(device)\n",
        "            outputs = model(sentences)\n",
        "            _, predicted = torch.max(outputs.data, 1)\n",
        "            total_test_correct += (predicted == labels).sum().item()\n",
        "            total_test_samples += labels.size(0)\n",
        "\n",
        "    test_accuracy = total_test_correct / total_test_samples\n",
        "    print(f\"Test Accuracy: {test_accuracy:.4f}\")"
      ]
    },
    {
      "cell_type": "markdown",
      "metadata": {
        "id": "v8A23WZK2V6r"
      },
      "source": [
        "Lei的bilstm根据gpt"
      ]
    },
    {
      "cell_type": "code",
      "execution_count": null,
      "metadata": {
        "colab": {
          "base_uri": "https://localhost:8080/"
        },
        "id": "4Bji4AX6a-a3",
        "outputId": "9f635cad-43bf-4096-d43a-983957bda70c"
      },
      "outputs": [
        {
          "name": "stdout",
          "output_type": "stream",
          "text": [
            "Epoch 1/10\n",
            "Training Accuracy: 0.6340\n",
            "Validation Accuracy: 0.6419\n",
            "Epoch 2/10\n",
            "Training Accuracy: 0.6543\n",
            "Validation Accuracy: 0.6318\n",
            "Epoch 3/10\n",
            "Training Accuracy: 0.6577\n",
            "Validation Accuracy: 0.6385\n",
            "Epoch 4/10\n",
            "Training Accuracy: 0.6650\n",
            "Validation Accuracy: 0.6622\n",
            "Epoch 5/10\n",
            "Training Accuracy: 0.6800\n",
            "Validation Accuracy: 0.6644\n",
            "Epoch 6/10\n",
            "Training Accuracy: 0.6935\n",
            "Validation Accuracy: 0.6712\n",
            "Epoch 7/10\n",
            "Training Accuracy: 0.6952\n",
            "Validation Accuracy: 0.6836\n",
            "Epoch 8/10\n",
            "Training Accuracy: 0.6999\n",
            "Validation Accuracy: 0.6881\n",
            "Epoch 9/10\n",
            "Training Accuracy: 0.7154\n",
            "Validation Accuracy: 0.6881\n",
            "Epoch 10/10\n",
            "Training Accuracy: 0.7181\n",
            "Validation Accuracy: 0.6892\n",
            "Test Performance:\n",
            "              precision    recall  f1-score   support\n",
            "\n",
            "           0       0.69      0.62      0.65       263\n",
            "           1       0.70      0.84      0.76       393\n",
            "           2       0.61      0.49      0.54       245\n",
            "\n",
            "    accuracy                           0.68       901\n",
            "   macro avg       0.67      0.65      0.65       901\n",
            "weighted avg       0.67      0.68      0.67       901\n",
            "\n"
          ]
        }
      ],
      "source": [
        "import torch\n",
        "import torch.nn as nn\n",
        "import torch.optim as optim\n",
        "from torch.utils.data import DataLoader, TensorDataset\n",
        "from sklearn.metrics import accuracy_score, classification_report\n",
        "from sklearn.preprocessing import LabelEncoder\n",
        "\n",
        "device = torch.device(\"cuda\" if torch.cuda.is_available() else \"cpu\")\n",
        "\n",
        "# First we need to convert the label in string format into an integer\n",
        "label_encoder = LabelEncoder()\n",
        "y_train_encoded = label_encoder.fit_transform(\n",
        "    y_train\n",
        ")  # Fit label encoder and return encoded labels\n",
        "y_val_encoded = label_encoder.transform(y_val)  # Transform labels to encoded version\n",
        "y_test_encoded = label_encoder.transform(y_test)  # Transform labels to encoded version\n",
        "\n",
        "# Convert numpy arrays to torch tensors\n",
        "X_train_t = torch.tensor(X_train, dtype=torch.float32).unsqueeze(\n",
        "    1\n",
        ")  # Add sequence length dimension\n",
        "y_train_t = torch.tensor(y_train_encoded, dtype=torch.long)\n",
        "X_val_t = torch.tensor(X_val, dtype=torch.float32).unsqueeze(1)\n",
        "y_val_t = torch.tensor(y_val_encoded, dtype=torch.long)\n",
        "X_test_t = torch.tensor(X_test, dtype=torch.float32).unsqueeze(1)\n",
        "y_test_t = torch.tensor(y_test_encoded, dtype=torch.long)\n",
        "\n",
        "# Create Tensor datasets\n",
        "train_dataset = TensorDataset(X_train_t, y_train_t)\n",
        "val_dataset = TensorDataset(X_val_t, y_val_t)\n",
        "test_dataset = TensorDataset(X_test_t, y_test_t)\n",
        "\n",
        "# Define DataLoaders\n",
        "batch_size = 64\n",
        "train_loader = DataLoader(train_dataset, batch_size=batch_size, shuffle=True)\n",
        "val_loader = DataLoader(val_dataset, batch_size=batch_size, shuffle=False)\n",
        "test_loader = DataLoader(test_dataset, batch_size=batch_size, shuffle=False)\n",
        "\n",
        "\n",
        "# Define the BiLSTM Model\n",
        "class BiLSTM(nn.Module):\n",
        "    def __init__(self, embedding_dim, hidden_dim, num_layers, output_dim):\n",
        "        super(BiLSTM, self).__init__()\n",
        "        self.hidden_dim = hidden_dim\n",
        "        self.num_layers = num_layers\n",
        "        self.lstm = nn.LSTM(\n",
        "            embedding_dim,\n",
        "            hidden_dim,\n",
        "            num_layers=num_layers,\n",
        "            bidirectional=True,\n",
        "            batch_first=True,\n",
        "        )\n",
        "        self.fc = nn.Linear(hidden_dim * 2, output_dim)\n",
        "\n",
        "    def forward(self, x):\n",
        "        # Initial states\n",
        "        h0 = torch.zeros(self.num_layers * 2, x.size(0), self.hidden_dim).to(x.device)\n",
        "        c0 = torch.zeros(self.num_layers * 2, x.size(0), self.hidden_dim).to(x.device)\n",
        "        # Forward propagate LSTM\n",
        "        out, _ = self.lstm(x, (h0, c0))\n",
        "        # Select last time step's output\n",
        "        out = self.fc(out[:, -1, :])\n",
        "        return out\n",
        "\n",
        "\n",
        "# Model initialization\n",
        "embedding_dim = X_train.shape[1]  # Number of features\n",
        "hidden_dim = 128\n",
        "num_layers = 2\n",
        "output_dim = len(set(y_train_encoded))  # Number of unique labels\n",
        "\n",
        "model = BiLSTM(embedding_dim, hidden_dim, num_layers, output_dim).to(device)\n",
        "\n",
        "# Loss and optimizer\n",
        "criterion = nn.CrossEntropyLoss()\n",
        "optimizer = optim.Adam(model.parameters(), lr=0.001)\n",
        "\n",
        "\n",
        "# Function to evaluate the model\n",
        "def evaluate_model(model, data_loader):\n",
        "    model.eval()\n",
        "    true_labels, predicted_labels = [], []\n",
        "    with torch.no_grad():\n",
        "        for inputs, labels in data_loader:\n",
        "            inputs, labels = inputs.to(device), labels.to(device)\n",
        "            outputs = model(inputs)\n",
        "            _, predicted = torch.max(outputs, 1)\n",
        "            true_labels.extend(labels.cpu().numpy())\n",
        "            predicted_labels.extend(predicted.cpu().numpy())\n",
        "    return true_labels, predicted_labels\n",
        "\n",
        "\n",
        "# Training loop\n",
        "num_epochs = 10\n",
        "for epoch in range(num_epochs):\n",
        "    model.train()\n",
        "    for inputs, labels in train_loader:\n",
        "        inputs, labels = inputs.to(device), labels.to(device)\n",
        "        optimizer.zero_grad()\n",
        "        outputs = model(inputs)\n",
        "        loss = criterion(outputs, labels)\n",
        "        loss.backward()\n",
        "        optimizer.step()\n",
        "\n",
        "    # Evaluate the model\n",
        "    train_true, train_preds = evaluate_model(model, train_loader)\n",
        "    val_true, val_preds = evaluate_model(model, val_loader)\n",
        "\n",
        "    print(f\"Epoch {epoch + 1}/{num_epochs}\")\n",
        "    print(f\"Training Accuracy: {accuracy_score(train_true, train_preds):.4f}\")\n",
        "    print(f\"Validation Accuracy: {accuracy_score(val_true, val_preds):.4f}\")\n",
        "\n",
        "# Evaluate on test data\n",
        "test_true, test_preds = evaluate_model(model, test_loader)\n",
        "print(\"Test Performance:\")\n",
        "print(classification_report(test_true, test_preds))"
      ]
    }
  ],
  "metadata": {
    "colab": {
      "provenance": [],
      "toc_visible": true
    },
    "kernelspec": {
      "display_name": "Python 3",
      "name": "python3"
    },
    "language_info": {
      "codemirror_mode": {
        "name": "ipython",
        "version": 3
      },
      "file_extension": ".py",
      "mimetype": "text/x-python",
      "name": "python",
      "nbconvert_exporter": "python",
      "pygments_lexer": "ipython3",
      "version": "3.12.3"
    }
  },
  "nbformat": 4,
  "nbformat_minor": 0
}
